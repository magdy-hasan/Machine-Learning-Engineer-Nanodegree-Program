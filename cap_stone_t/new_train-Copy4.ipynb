{
 "cells": [
  {
   "cell_type": "code",
   "execution_count": 1,
   "metadata": {
    "scrolled": true
   },
   "outputs": [
    {
     "name": "stderr",
     "output_type": "stream",
     "text": [
      "/home/ubuntu/anaconda3/envs/tensorflow_p36/lib/python3.6/site-packages/h5py/__init__.py:36: FutureWarning: Conversion of the second argument of issubdtype from `float` to `np.floating` is deprecated. In future, it will be treated as `np.float64 == np.dtype(float).type`.\n",
      "  from ._conv import register_converters as _register_converters\n",
      "Using TensorFlow backend.\n",
      "/home/ubuntu/anaconda3/envs/tensorflow_p36/lib/python3.6/site-packages/matplotlib/__init__.py:1067: UserWarning: Duplicate key in file \"/home/ubuntu/.config/matplotlib/matplotlibrc\", line #2\n",
      "  (fname, cnt))\n",
      "/home/ubuntu/anaconda3/envs/tensorflow_p36/lib/python3.6/site-packages/matplotlib/__init__.py:1067: UserWarning: Duplicate key in file \"/home/ubuntu/.config/matplotlib/matplotlibrc\", line #3\n",
      "  (fname, cnt))\n"
     ]
    }
   ],
   "source": [
    "from keras.models import Model\n",
    "from pickle import load\n",
    "from keras import layers\n",
    "import numpy as np\n",
    "import pandas as pd\n",
    "from keras.callbacks import ModelCheckpoint  \n",
    "import matplotlib.pyplot as plt\n",
    "%matplotlib inline"
   ]
  },
  {
   "cell_type": "code",
   "execution_count": 27,
   "metadata": {},
   "outputs": [],
   "source": [
    "# this was for vggface model with output (7, 7, 2048), i also tried models with (2048) and (4096) output \n",
    "# and built model with only dense layers and dropout \n",
    "in1 = layers.Input(shape=(7, 7, 2048))\n",
    "\n",
    "X = layers.Conv2D(filters=1024, kernel_size=3, padding='same')(in1)\n",
    "X = layers.BatchNormalization()(X)\n",
    "X = layers.Activation('relu')(X)\n",
    "\n",
    "X = layers.MaxPooling2D(pool_size=2)(X)\n",
    "\n",
    "X = layers.Conv2D(filters=1024, kernel_size=3, padding='same')(X)\n",
    "X = layers.BatchNormalization()(X)\n",
    "X = layers.Activation('relu')(X)\n",
    "\n",
    "X = layers.MaxPooling2D(pool_size=2)(X)\n",
    "\n",
    "X = layers.Flatten()(X)\n",
    "X = layers.Dropout(0.3)(X)\n",
    "X = layers.Dense(512, activation='relu')(X) \n",
    "pred = layers.Dense(10,activation='softmax')(X)\n",
    "model = Model(inputs=in1, outputs=pred)"
   ]
  },
  {
   "cell_type": "code",
   "execution_count": 28,
   "metadata": {
    "scrolled": false
   },
   "outputs": [
    {
     "name": "stdout",
     "output_type": "stream",
     "text": [
      "_________________________________________________________________\n",
      "Layer (type)                 Output Shape              Param #   \n",
      "=================================================================\n",
      "input_5 (InputLayer)         (None, 7, 7, 2048)        0         \n",
      "_________________________________________________________________\n",
      "conv2d_9 (Conv2D)            (None, 7, 7, 1024)        18875392  \n",
      "_________________________________________________________________\n",
      "batch_normalization_9 (Batch (None, 7, 7, 1024)        4096      \n",
      "_________________________________________________________________\n",
      "activation_9 (Activation)    (None, 7, 7, 1024)        0         \n",
      "_________________________________________________________________\n",
      "max_pooling2d_9 (MaxPooling2 (None, 3, 3, 1024)        0         \n",
      "_________________________________________________________________\n",
      "conv2d_10 (Conv2D)           (None, 3, 3, 1024)        9438208   \n",
      "_________________________________________________________________\n",
      "batch_normalization_10 (Batc (None, 3, 3, 1024)        4096      \n",
      "_________________________________________________________________\n",
      "activation_10 (Activation)   (None, 3, 3, 1024)        0         \n",
      "_________________________________________________________________\n",
      "max_pooling2d_10 (MaxPooling (None, 1, 1, 1024)        0         \n",
      "_________________________________________________________________\n",
      "flatten_5 (Flatten)          (None, 1024)              0         \n",
      "_________________________________________________________________\n",
      "dropout_6 (Dropout)          (None, 1024)              0         \n",
      "_________________________________________________________________\n",
      "dense_9 (Dense)              (None, 512)               524800    \n",
      "_________________________________________________________________\n",
      "dense_10 (Dense)             (None, 10)                5130      \n",
      "=================================================================\n",
      "Total params: 28,851,722\n",
      "Trainable params: 28,847,626\n",
      "Non-trainable params: 4,096\n",
      "_________________________________________________________________\n"
     ]
    }
   ],
   "source": [
    "model.summary()"
   ]
  },
  {
   "cell_type": "markdown",
   "metadata": {},
   "source": [
    "### I tried many optimizers, SGD seems to work best with this dataset with lr = 0.1 nad momenturm 0.8\n",
    "### I tried adam and rmsprop but they get stuck or too slow ( need epochs > 64 ) and still val_acc doesn't increase"
   ]
  },
  {
   "cell_type": "code",
   "execution_count": 29,
   "metadata": {},
   "outputs": [],
   "source": [
    "from keras.optimizers import SGD"
   ]
  },
  {
   "cell_type": "code",
   "execution_count": 31,
   "metadata": {},
   "outputs": [],
   "source": [
    "opt = SGD(lr = 0.15, momentum=0.8)"
   ]
  },
  {
   "cell_type": "code",
   "execution_count": 32,
   "metadata": {},
   "outputs": [],
   "source": [
    "model.compile(optimizer=opt, loss='categorical_crossentropy', metrics=['accuracy'])"
   ]
  },
  {
   "cell_type": "markdown",
   "metadata": {},
   "source": [
    "### use the trainig data we created, first 180 file for training and [181,185] for validating"
   ]
  },
  {
   "cell_type": "code",
   "execution_count": 33,
   "metadata": {},
   "outputs": [],
   "source": [
    "def gen():\n",
    "    i = 0\n",
    "    while True:\n",
    "        i = i + 1\n",
    "        x,y = load(open('vggtrain/train' + str(i) + '.pkl', 'rb'))\n",
    "        yield x,y\n",
    "        if i == 180:\n",
    "            i = 0"
   ]
  },
  {
   "cell_type": "code",
   "execution_count": 34,
   "metadata": {},
   "outputs": [],
   "source": [
    "def gen2():\n",
    "    i = 180\n",
    "    while True:\n",
    "        i = i + 1\n",
    "        x,y = load(open('vggtrain/train' + str(i) + '.pkl', 'rb'))\n",
    "        yield x,y\n",
    "        if i == 185:\n",
    "            i = 180"
   ]
  },
  {
   "cell_type": "markdown",
   "metadata": {},
   "source": [
    "### fit the model"
   ]
  },
  {
   "cell_type": "code",
   "execution_count": null,
   "metadata": {
    "scrolled": false
   },
   "outputs": [
    {
     "name": "stdout",
     "output_type": "stream",
     "text": [
      "Epoch 1/32\n",
      "180/180 [==============================] - 1735s 10s/step - loss: 2.8279 - acc: 0.1756 - val_loss: 2.1102 - val_acc: 0.2134\n",
      "Epoch 2/32\n",
      "180/180 [==============================] - 1828s 10s/step - loss: 2.0801 - acc: 0.2208 - val_loss: 2.0719 - val_acc: 0.2271\n",
      "Epoch 3/32\n",
      "180/180 [==============================] - 1904s 11s/step - loss: 2.0613 - acc: 0.2285 - val_loss: 2.0631 - val_acc: 0.2296\n",
      "Epoch 4/32\n",
      "180/180 [==============================] - 1901s 11s/step - loss: 2.0472 - acc: 0.2341 - val_loss: 2.0519 - val_acc: 0.2335\n",
      "Epoch 5/32\n",
      " 91/180 [==============>...............] - ETA: 14:04 - loss: 2.0361 - acc: 0.2383"
     ]
    }
   ],
   "source": [
    "hist = model.fit_generator(epochs=32, generator=gen(),steps_per_epoch=180,validation_data=gen2(),validation_steps=5)"
   ]
  },
  {
   "cell_type": "code",
   "execution_count": null,
   "metadata": {},
   "outputs": [],
   "source": [
    "hist.history.keys()"
   ]
  },
  {
   "cell_type": "code",
   "execution_count": 23,
   "metadata": {},
   "outputs": [],
   "source": [
    "def gen3():\n",
    "    i = 95\n",
    "    while True:\n",
    "        i = i + 1\n",
    "        x,y = load(open('vggtrain/train' + str(i) + '.pkl', 'rb'))\n",
    "        yield x,y\n",
    "        if i == 105:\n",
    "            i = 95"
   ]
  },
  {
   "cell_type": "markdown",
   "metadata": {},
   "source": [
    "### evaluate on current model files [96,105]"
   ]
  },
  {
   "cell_type": "code",
   "execution_count": 24,
   "metadata": {},
   "outputs": [],
   "source": [
    "a,b = model.evaluate_generator(generator=gen3(),steps=10)"
   ]
  },
  {
   "cell_type": "code",
   "execution_count": null,
   "metadata": {},
   "outputs": [],
   "source": []
  }
 ],
 "metadata": {
  "kernelspec": {
   "display_name": "Python [conda env:tensorflow_p36]",
   "language": "python",
   "name": "conda-env-tensorflow_p36-py"
  },
  "language_info": {
   "codemirror_mode": {
    "name": "ipython",
    "version": 3
   },
   "file_extension": ".py",
   "mimetype": "text/x-python",
   "name": "python",
   "nbconvert_exporter": "python",
   "pygments_lexer": "ipython3",
   "version": "3.6.4"
  }
 },
 "nbformat": 4,
 "nbformat_minor": 2
}
