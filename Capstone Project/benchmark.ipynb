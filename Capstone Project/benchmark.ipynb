{
 "cells": [
  {
   "cell_type": "code",
   "execution_count": 36,
   "metadata": {
    "collapsed": false,
    "deletable": true,
    "editable": true
   },
   "outputs": [],
   "source": [
    "from keras.preprocessing import image\n",
    "from keras.applications.vgg16 import preprocess_input\n",
    "from keras.applications import VGG16\n",
    "from keras import layers\n",
    "from keras.models import Model\n",
    "import numpy as np\n",
    "import pandas as pd\n",
    "import pickle\n",
    "import matplotlib.pyplot as plt\n",
    "from keras.utils import plot_model\n",
    "%matplotlib inline"
   ]
  },
  {
   "cell_type": "code",
   "execution_count": 2,
   "metadata": {
    "collapsed": true,
    "deletable": true,
    "editable": true
   },
   "outputs": [],
   "source": [
    "#load the data we saved fron pre_data notebook\n",
    "dtr,dval,dte = pickle.load(open('gender_data.pkl','rb'))"
   ]
  },
  {
   "cell_type": "markdown",
   "metadata": {},
   "source": [
    "### since the size of the training data is too large to be hold in memory one time, we save batches of training data of size 32 in files"
   ]
  },
  {
   "cell_type": "code",
   "execution_count": 3,
   "metadata": {
    "collapsed": false,
    "deletable": true,
    "editable": true
   },
   "outputs": [
    {
     "name": "stdout",
     "output_type": "stream",
     "text": [
      "50\n",
      "100\n",
      "150\n"
     ]
    }
   ],
   "source": [
    "X,Y = [],[] \n",
    "# number of current training files till now\n",
    "cnt = 0 \n",
    "# iterate over all training data\n",
    "for i,r in dtr.iterrows(): \n",
    "    # data is in path folder\n",
    "    path = 'aligned/' + r['path'] \n",
    "    # load image with size (224,224,3)\n",
    "    img = image.load_img(path, target_size=(224,224)) \n",
    "    img = image.img_to_array(img)\n",
    "    # images need to be in shape (#sampels,224,224,3), where here #sampler = 1\n",
    "    img = img.reshape(1,img.shape[0],img.shape[1],img.shape[2])\n",
    "    # preprocess image with preprocess_input provided by keras\n",
    "    img = preprocess_input(img)\n",
    "    # save current image\n",
    "    X.append(img[0])\n",
    "    # create label for current image\n",
    "    Y.append(int(r['gender'] == 'm'))\n",
    "    # if now we have 32 training data\n",
    "    if len(X)%32 == 0:\n",
    "        # increase number of training files\n",
    "        cnt += 1\n",
    "        if cnt % 50 == 0:\n",
    "            print(cnt)\n",
    "        # save current training data\n",
    "        pickle.dump([np.array(X),np.array(Y)],open('bench_train_files/train' + str(cnt) + '.pkl','wb'))\n",
    "        X,Y = [],[]"
   ]
  },
  {
   "cell_type": "markdown",
   "metadata": {},
   "source": [
    "### same as above but in the validation data"
   ]
  },
  {
   "cell_type": "code",
   "execution_count": 4,
   "metadata": {
    "collapsed": false,
    "deletable": true,
    "editable": true
   },
   "outputs": [
    {
     "name": "stdout",
     "output_type": "stream",
     "text": [
      "50\n"
     ]
    }
   ],
   "source": [
    "X,Y = [],[]\n",
    "cnt = 0\n",
    "for i,r in dval.iterrows():\n",
    "    path = 'aligned/' + r['path']\n",
    "    img = image.load_img(path, target_size=(224,224))\n",
    "    img = image.img_to_array(img)\n",
    "    img = img.reshape(1,img.shape[0],img.shape[1],img.shape[2])\n",
    "    img = preprocess_input(img)\n",
    "    X.append(img[0])\n",
    "    Y.append(int(r['gender'] == 'm'))\n",
    "    if len(X)%32 == 0:\n",
    "        cnt += 1\n",
    "        if cnt % 50 == 0:\n",
    "            print(cnt)\n",
    "        pickle.dump([np.array(X),np.array(Y)],open('bench_val_files/train' + str(cnt) + '.pkl','wb'))\n",
    "        X,Y = [],[]"
   ]
  },
  {
   "cell_type": "markdown",
   "metadata": {},
   "source": [
    "### create a simple network with one Conv layer as a benchmark model"
   ]
  },
  {
   "cell_type": "code",
   "execution_count": 28,
   "metadata": {
    "collapsed": true,
    "deletable": true,
    "editable": true
   },
   "outputs": [],
   "source": [
    "# input for the network \n",
    "in1 = layers.Input(shape=(224,224,3))\n",
    "\n",
    "# decrease dimensions of the image\n",
    "X = layers.AveragePooling2D(5)(in1)\n",
    "\n",
    "# one Conv layer for learning\n",
    "X = layers.Conv2D(64,5,padding='valid',activation='relu')(X)\n",
    "\n",
    "X = layers.GlobalAveragePooling2D()(X)\n",
    "\n",
    "# add a fully connected layer\n",
    "X = layers.Dense(32,activation='relu')(X)\n",
    "# add some dropout to not over-fit\n",
    "X = layers.Dropout(0.5)(X)\n",
    "\n",
    "# our final layer\n",
    "X = layers.Dense(1,activation='sigmoid')(X)\n",
    "model = Model(inputs=in1,outputs=X)"
   ]
  },
  {
   "cell_type": "code",
   "execution_count": 29,
   "metadata": {
    "collapsed": false,
    "deletable": true,
    "editable": true
   },
   "outputs": [
    {
     "name": "stdout",
     "output_type": "stream",
     "text": [
      "_________________________________________________________________\n",
      "Layer (type)                 Output Shape              Param #   \n",
      "=================================================================\n",
      "input_8 (InputLayer)         (None, 224, 224, 3)       0         \n",
      "_________________________________________________________________\n",
      "average_pooling2d_4 (Average (None, 44, 44, 3)         0         \n",
      "_________________________________________________________________\n",
      "conv2d_8 (Conv2D)            (None, 40, 40, 64)        4864      \n",
      "_________________________________________________________________\n",
      "global_average_pooling2d_8 ( (None, 64)                0         \n",
      "_________________________________________________________________\n",
      "dense_15 (Dense)             (None, 32)                2080      \n",
      "_________________________________________________________________\n",
      "dropout_8 (Dropout)          (None, 32)                0         \n",
      "_________________________________________________________________\n",
      "dense_16 (Dense)             (None, 1)                 33        \n",
      "=================================================================\n",
      "Total params: 6,977\n",
      "Trainable params: 6,977\n",
      "Non-trainable params: 0\n",
      "_________________________________________________________________\n"
     ]
    }
   ],
   "source": [
    "model.summary()"
   ]
  },
  {
   "cell_type": "code",
   "execution_count": 30,
   "metadata": {
    "collapsed": true,
    "deletable": true,
    "editable": true
   },
   "outputs": [],
   "source": [
    "model.compile(loss='binary_crossentropy', optimizer='adam',metrics=['accuracy'])"
   ]
  },
  {
   "cell_type": "code",
   "execution_count": 31,
   "metadata": {
    "collapsed": true,
    "deletable": true,
    "editable": true
   },
   "outputs": [],
   "source": [
    "def gen():\n",
    "    # generate training files for training the model\n",
    "    # iterate over all 187 files we created\n",
    "    i = 0\n",
    "    while True:\n",
    "        i = i + 1\n",
    "        x,y = pickle.load(open('bench_train_files/train' + str(i) + '.pkl','rb'))\n",
    "        yield x,y\n",
    "        if i == 187:\n",
    "            i = 0"
   ]
  },
  {
   "cell_type": "code",
   "execution_count": 32,
   "metadata": {
    "collapsed": true,
    "deletable": true,
    "editable": true
   },
   "outputs": [],
   "source": [
    "def gen2():\n",
    "    # generate validation files for training the model\n",
    "    # iterate over all 62 files we created\n",
    "    i = 0\n",
    "    while True:\n",
    "        i = i + 1\n",
    "        x,y = pickle.load(open('bench_val_files/train' + str(i) + '.pkl','rb'))\n",
    "        yield x,y\n",
    "        if i == 62:\n",
    "            i = 0"
   ]
  },
  {
   "cell_type": "code",
   "execution_count": null,
   "metadata": {
    "collapsed": true,
    "deletable": true,
    "editable": true
   },
   "outputs": [],
   "source": [
    "# train the model on files with 16 epochs\n",
    "# this took much time since i'm working on CPU\n",
    "hist = model.fit_generator(generator=gen(),epochs=16,steps_per_epoch=187,validation_data=gen2(),validation_steps=62,verbose=2)"
   ]
  },
  {
   "cell_type": "code",
   "execution_count": 35,
   "metadata": {
    "collapsed": false,
    "deletable": true,
    "editable": true
   },
   "outputs": [
    {
     "data": {
      "image/png": "[encoded data removed]",
      "text/plain": [
       "<matplotlib.figure.Figure at 0xdca1ec3b38>"
      ]
     },
     "metadata": {},
     "output_type": "display_data"
    },
    {
     "data": {
      "image/png": "[encoded data removed]",
      "text/plain": [
       "<matplotlib.figure.Figure at 0xdca1f38438>"
      ]
     },
     "metadata": {},
     "output_type": "display_data"
    }
   ],
   "source": [
    "# summarize history for accuracy\n",
    "plt.plot(hist.history['acc'])\n",
    "plt.plot(hist.history['val_acc'])\n",
    "plt.title('model accuracy')\n",
    "plt.ylabel('accuracy')\n",
    "plt.xlabel('epoch')\n",
    "plt.legend(['train', 'test'], loc='upper left')\n",
    "plt.show()\n",
    "# summarize history for loss\n",
    "plt.plot(hist.history['loss'])\n",
    "plt.plot(hist.history['val_loss'])\n",
    "plt.title('model loss')\n",
    "plt.ylabel('loss')\n",
    "plt.xlabel('epoch')\n",
    "plt.legend(['train', 'test'], loc='upper left')\n",
    "plt.show()"
   ]
  },
  {
   "cell_type": "code",
   "execution_count": null,
   "metadata": {
    "collapsed": true,
    "deletable": true,
    "editable": true
   },
   "outputs": [],
   "source": []
  }
 ],
 "metadata": {
  "anaconda-cloud": {},
  "kernelspec": {
   "display_name": "dog-project",
   "language": "python",
   "name": "dog-project"
  },
  "language_info": {
   "codemirror_mode": {
    "name": "ipython",
    "version": 3
   },
   "file_extension": ".py",
   "mimetype": "text/x-python",
   "name": "python",
   "nbconvert_exporter": "python",
   "pygments_lexer": "ipython3",
   "version": "3.5.3"
  }
 },
 "nbformat": 4,
 "nbformat_minor": 2
}
