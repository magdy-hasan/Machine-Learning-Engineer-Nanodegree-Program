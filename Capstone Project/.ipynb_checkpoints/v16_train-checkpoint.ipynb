{
 "cells": [
  {
   "cell_type": "code",
   "execution_count": 1,
   "metadata": {
    "collapsed": false,
    "deletable": true,
    "editable": true
   },
   "outputs": [
    {
     "name": "stderr",
     "output_type": "stream",
     "text": [
      "Using TensorFlow backend.\n"
     ]
    }
   ],
   "source": [
    "from keras.models import Model\n",
    "from keras import layers\n",
    "import pickle\n",
    "from keras.preprocessing import image\n",
    "from keras.applications.vgg16 import preprocess_input\n",
    "import numpy as np\n",
    "import pandas as pd\n",
    "import matplotlib.pyplot as plt\n",
    "from keras.applications import VGG16\n",
    "from keras.callbacks import ModelCheckpoint\n",
    "%matplotlib inline"
   ]
  },
  {
   "cell_type": "code",
   "execution_count": 2,
   "metadata": {
    "collapsed": true,
    "deletable": true,
    "editable": true
   },
   "outputs": [],
   "source": [
    "# load the data we created in pre_data_v16.ipynb\n",
    "x,y = pickle.load(open('trv16.pkl','rb'))\n",
    "xv,yv = pickle.load(open('valv16.pkl','rb'))"
   ]
  },
  {
   "cell_type": "code",
   "execution_count": 3,
   "metadata": {
    "collapsed": false,
    "deletable": true,
    "editable": true
   },
   "outputs": [
    {
     "name": "stdout",
     "output_type": "stream",
     "text": [
      "(6000, 4096) (6000,)\n",
      "(2000, 4096) (2000,)\n"
     ]
    }
   ],
   "source": [
    "# check the size of the data\n",
    "print(x.shape,y.shape)\n",
    "print(xv.shape,yv.shape)"
   ]
  },
  {
   "cell_type": "markdown",
   "metadata": {},
   "source": [
    "### create a simple network with one dense layer and dropout layer "
   ]
  },
  {
   "cell_type": "code",
   "execution_count": 28,
   "metadata": {
    "collapsed": true,
    "deletable": true,
    "editable": true
   },
   "outputs": [],
   "source": [
    "# input features\n",
    "in1 = layers.Input(shape=(4096,))\n",
    "\n",
    "# a fully connected layer with dropout\n",
    "X = layers.Dense(1024,activation='relu')(in1)\n",
    "X = layers.Dropout(0.9)(X)\n",
    "\n",
    "# final layer\n",
    "X = layers.Dense(1,activation='sigmoid')(X)\n",
    "\n",
    "model = Model(inputs=in1,outputs=X)"
   ]
  },
  {
   "cell_type": "code",
   "execution_count": 29,
   "metadata": {
    "collapsed": true,
    "deletable": true,
    "editable": true
   },
   "outputs": [],
   "source": [
    "model.compile(loss='binary_crossentropy', optimizer='adam',metrics=['accuracy'])"
   ]
  },
  {
   "cell_type": "code",
   "execution_count": 30,
   "metadata": {
    "collapsed": false,
    "deletable": true,
    "editable": true
   },
   "outputs": [
    {
     "name": "stdout",
     "output_type": "stream",
     "text": [
      "_________________________________________________________________\n",
      "Layer (type)                 Output Shape              Param #   \n",
      "=================================================================\n",
      "input_6 (InputLayer)         (None, 4096)              0         \n",
      "_________________________________________________________________\n",
      "dense_11 (Dense)             (None, 1024)              4195328   \n",
      "_________________________________________________________________\n",
      "dropout_6 (Dropout)          (None, 1024)              0         \n",
      "_________________________________________________________________\n",
      "dense_12 (Dense)             (None, 1)                 1025      \n",
      "=================================================================\n",
      "Total params: 4,196,353\n",
      "Trainable params: 4,196,353\n",
      "Non-trainable params: 0\n",
      "_________________________________________________________________\n"
     ]
    }
   ],
   "source": [
    "model.summary()"
   ]
  },
  {
   "cell_type": "code",
   "execution_count": 31,
   "metadata": {
    "collapsed": true,
    "deletable": true,
    "editable": true
   },
   "outputs": [],
   "source": [
    "# save best model of validtion accuracy in v16_saved_models folder\n",
    "filepath = 'v16_saved_models\\model-ep{epoch:03d}-acc{acc:.3f}-val_acc{val_acc:.3f}.h5'\n",
    "checkpoint = ModelCheckpoint(filepath, monitor='val_acc', verbose=0, save_best_only=True, mode='max')"
   ]
  },
  {
   "cell_type": "code",
   "execution_count": 32,
   "metadata": {
    "collapsed": false,
    "deletable": true,
    "editable": true,
    "scrolled": true
   },
   "outputs": [
    {
     "name": "stdout",
     "output_type": "stream",
     "text": [
      "Train on 6000 samples, validate on 2000 samples\n",
      "Epoch 1/128\n",
      " - 7s - loss: 1.1722 - acc: 0.7003 - val_loss: 0.4010 - val_acc: 0.8175\n",
      "Epoch 2/128\n",
      " - 6s - loss: 0.4882 - acc: 0.7695 - val_loss: 0.4008 - val_acc: 0.8140\n",
      "Epoch 3/128\n",
      " - 6s - loss: 0.4611 - acc: 0.7855 - val_loss: 0.3870 - val_acc: 0.8285\n",
      "Epoch 4/128\n",
      " - 6s - loss: 0.4413 - acc: 0.8027 - val_loss: 0.3807 - val_acc: 0.8300\n",
      "Epoch 5/128\n",
      " - 6s - loss: 0.4403 - acc: 0.7977 - val_loss: 0.3839 - val_acc: 0.8305\n",
      "Epoch 6/128\n",
      " - 6s - loss: 0.4322 - acc: 0.8025 - val_loss: 0.3765 - val_acc: 0.8330\n",
      "Epoch 7/128\n",
      " - 6s - loss: 0.4171 - acc: 0.8043 - val_loss: 0.3728 - val_acc: 0.8315\n",
      "Epoch 8/128\n",
      " - 6s - loss: 0.4092 - acc: 0.8123 - val_loss: 0.3692 - val_acc: 0.8395\n",
      "Epoch 9/128\n",
      " - 6s - loss: 0.4146 - acc: 0.8108 - val_loss: 0.3670 - val_acc: 0.8380\n",
      "Epoch 10/128\n",
      " - 6s - loss: 0.4035 - acc: 0.8190 - val_loss: 0.3651 - val_acc: 0.8380\n",
      "Epoch 11/128\n",
      " - 6s - loss: 0.3978 - acc: 0.8150 - val_loss: 0.3623 - val_acc: 0.8370\n",
      "Epoch 12/128\n",
      " - 6s - loss: 0.3974 - acc: 0.8198 - val_loss: 0.3608 - val_acc: 0.8395\n",
      "Epoch 13/128\n",
      " - 6s - loss: 0.3877 - acc: 0.8280 - val_loss: 0.3618 - val_acc: 0.8345\n",
      "Epoch 14/128\n",
      " - 6s - loss: 0.3851 - acc: 0.8227 - val_loss: 0.3644 - val_acc: 0.8360\n",
      "Epoch 15/128\n",
      " - 6s - loss: 0.3815 - acc: 0.8278 - val_loss: 0.3618 - val_acc: 0.8430\n",
      "Epoch 16/128\n",
      " - 6s - loss: 0.3793 - acc: 0.8260 - val_loss: 0.3656 - val_acc: 0.8425\n",
      "Epoch 17/128\n",
      " - 6s - loss: 0.3766 - acc: 0.8252 - val_loss: 0.3582 - val_acc: 0.8445\n",
      "Epoch 18/128\n",
      " - 5s - loss: 0.3693 - acc: 0.8342 - val_loss: 0.3547 - val_acc: 0.8435\n",
      "Epoch 19/128\n",
      " - 6s - loss: 0.3694 - acc: 0.8293 - val_loss: 0.3519 - val_acc: 0.8465\n",
      "Epoch 20/128\n",
      " - 6s - loss: 0.3633 - acc: 0.8382 - val_loss: 0.3530 - val_acc: 0.8435\n",
      "Epoch 21/128\n",
      " - 6s - loss: 0.3626 - acc: 0.8395 - val_loss: 0.3565 - val_acc: 0.8425\n",
      "Epoch 22/128\n",
      " - 6s - loss: 0.3581 - acc: 0.8392 - val_loss: 0.3491 - val_acc: 0.8380\n",
      "Epoch 23/128\n",
      " - 6s - loss: 0.3637 - acc: 0.8328 - val_loss: 0.3492 - val_acc: 0.8405\n",
      "Epoch 24/128\n",
      " - 5s - loss: 0.3440 - acc: 0.8497 - val_loss: 0.3509 - val_acc: 0.8450\n",
      "Epoch 25/128\n",
      " - 5s - loss: 0.3417 - acc: 0.8435 - val_loss: 0.3514 - val_acc: 0.8400\n",
      "Epoch 26/128\n",
      " - 5s - loss: 0.3386 - acc: 0.8513 - val_loss: 0.3556 - val_acc: 0.8415\n",
      "Epoch 27/128\n",
      " - 5s - loss: 0.3349 - acc: 0.8495 - val_loss: 0.3507 - val_acc: 0.8525\n",
      "Epoch 28/128\n",
      " - 5s - loss: 0.3275 - acc: 0.8530 - val_loss: 0.3507 - val_acc: 0.8470\n",
      "Epoch 29/128\n",
      " - 5s - loss: 0.3348 - acc: 0.8520 - val_loss: 0.3465 - val_acc: 0.8405\n",
      "Epoch 30/128\n",
      " - 5s - loss: 0.3211 - acc: 0.8573 - val_loss: 0.3444 - val_acc: 0.8495\n",
      "Epoch 31/128\n",
      " - 5s - loss: 0.3251 - acc: 0.8483 - val_loss: 0.3514 - val_acc: 0.8465\n",
      "Epoch 32/128\n",
      " - 5s - loss: 0.3322 - acc: 0.8510 - val_loss: 0.3506 - val_acc: 0.8460\n",
      "Epoch 33/128\n",
      " - 5s - loss: 0.3170 - acc: 0.8538 - val_loss: 0.3477 - val_acc: 0.8495\n",
      "Epoch 34/128\n",
      " - 5s - loss: 0.3118 - acc: 0.8572 - val_loss: 0.3445 - val_acc: 0.8480\n",
      "Epoch 35/128\n",
      " - 5s - loss: 0.3265 - acc: 0.8535 - val_loss: 0.3452 - val_acc: 0.8495\n",
      "Epoch 36/128\n",
      " - 5s - loss: 0.3127 - acc: 0.8597 - val_loss: 0.3535 - val_acc: 0.8475\n",
      "Epoch 37/128\n",
      " - 5s - loss: 0.3140 - acc: 0.8563 - val_loss: 0.3480 - val_acc: 0.8485\n",
      "Epoch 38/128\n",
      " - 5s - loss: 0.3080 - acc: 0.8593 - val_loss: 0.3467 - val_acc: 0.8545\n",
      "Epoch 39/128\n",
      " - 5s - loss: 0.3136 - acc: 0.8595 - val_loss: 0.3462 - val_acc: 0.8520\n",
      "Epoch 40/128\n",
      " - 5s - loss: 0.2989 - acc: 0.8658 - val_loss: 0.3446 - val_acc: 0.8470\n",
      "Epoch 41/128\n",
      " - 5s - loss: 0.2966 - acc: 0.8720 - val_loss: 0.3501 - val_acc: 0.8515\n",
      "Epoch 42/128\n",
      " - 5s - loss: 0.2936 - acc: 0.8657 - val_loss: 0.3492 - val_acc: 0.8480\n",
      "Epoch 43/128\n",
      " - 5s - loss: 0.2960 - acc: 0.8628 - val_loss: 0.3490 - val_acc: 0.8510\n",
      "Epoch 44/128\n",
      " - 5s - loss: 0.2889 - acc: 0.8705 - val_loss: 0.3517 - val_acc: 0.8505\n",
      "Epoch 45/128\n",
      " - 5s - loss: 0.3017 - acc: 0.8643 - val_loss: 0.3496 - val_acc: 0.8510\n",
      "Epoch 46/128\n",
      " - 5s - loss: 0.2929 - acc: 0.8668 - val_loss: 0.3501 - val_acc: 0.8475\n",
      "Epoch 47/128\n",
      " - 5s - loss: 0.2833 - acc: 0.8695 - val_loss: 0.3544 - val_acc: 0.8495\n",
      "Epoch 48/128\n",
      " - 5s - loss: 0.2772 - acc: 0.8777 - val_loss: 0.3522 - val_acc: 0.8480\n",
      "Epoch 49/128\n",
      " - 5s - loss: 0.2844 - acc: 0.8710 - val_loss: 0.3464 - val_acc: 0.8550\n",
      "Epoch 50/128\n",
      " - 5s - loss: 0.2763 - acc: 0.8747 - val_loss: 0.3511 - val_acc: 0.8510\n",
      "Epoch 51/128\n",
      " - 5s - loss: 0.2760 - acc: 0.8767 - val_loss: 0.3550 - val_acc: 0.8460\n",
      "Epoch 52/128\n",
      " - 5s - loss: 0.2700 - acc: 0.8755 - val_loss: 0.3551 - val_acc: 0.8560\n",
      "Epoch 53/128\n",
      " - 5s - loss: 0.2708 - acc: 0.8812 - val_loss: 0.3536 - val_acc: 0.8530\n",
      "Epoch 54/128\n",
      " - 5s - loss: 0.2617 - acc: 0.8832 - val_loss: 0.3557 - val_acc: 0.8535\n",
      "Epoch 55/128\n",
      " - 5s - loss: 0.2632 - acc: 0.8845 - val_loss: 0.3541 - val_acc: 0.8580\n",
      "Epoch 56/128\n",
      " - 5s - loss: 0.2721 - acc: 0.8758 - val_loss: 0.3554 - val_acc: 0.8500\n",
      "Epoch 57/128\n",
      " - 5s - loss: 0.2648 - acc: 0.8768 - val_loss: 0.3605 - val_acc: 0.8490\n",
      "Epoch 58/128\n",
      " - 5s - loss: 0.2635 - acc: 0.8782 - val_loss: 0.3591 - val_acc: 0.8470\n",
      "Epoch 59/128\n",
      " - 6s - loss: 0.2632 - acc: 0.8862 - val_loss: 0.3589 - val_acc: 0.8490\n",
      "Epoch 60/128\n",
      " - 5s - loss: 0.2658 - acc: 0.8802 - val_loss: 0.3615 - val_acc: 0.8490\n",
      "Epoch 61/128\n",
      " - 5s - loss: 0.2606 - acc: 0.8825 - val_loss: 0.3558 - val_acc: 0.8490\n",
      "Epoch 62/128\n",
      " - 5s - loss: 0.2697 - acc: 0.8807 - val_loss: 0.3560 - val_acc: 0.8505\n",
      "Epoch 63/128\n",
      " - 5s - loss: 0.2562 - acc: 0.8817 - val_loss: 0.3613 - val_acc: 0.8520\n",
      "Epoch 64/128\n",
      " - 5s - loss: 0.2525 - acc: 0.8887 - val_loss: 0.3560 - val_acc: 0.8540\n",
      "Epoch 65/128\n",
      " - 5s - loss: 0.2523 - acc: 0.8868 - val_loss: 0.3560 - val_acc: 0.8485\n",
      "Epoch 66/128\n",
      " - 5s - loss: 0.2495 - acc: 0.8870 - val_loss: 0.3666 - val_acc: 0.8515\n",
      "Epoch 67/128\n",
      " - 6s - loss: 0.2449 - acc: 0.8878 - val_loss: 0.3639 - val_acc: 0.8510\n",
      "Epoch 68/128\n",
      " - 6s - loss: 0.2412 - acc: 0.8905 - val_loss: 0.3631 - val_acc: 0.8525\n",
      "Epoch 69/128\n",
      " - 5s - loss: 0.2352 - acc: 0.8968 - val_loss: 0.3719 - val_acc: 0.8505\n",
      "Epoch 70/128\n",
      " - 6s - loss: 0.2333 - acc: 0.8953 - val_loss: 0.3712 - val_acc: 0.8545\n",
      "Epoch 71/128\n",
      " - 5s - loss: 0.2262 - acc: 0.8977 - val_loss: 0.3707 - val_acc: 0.8555\n",
      "Epoch 72/128\n",
      " - 5s - loss: 0.2321 - acc: 0.8952 - val_loss: 0.3587 - val_acc: 0.8545\n",
      "Epoch 73/128\n",
      " - 5s - loss: 0.2243 - acc: 0.9040 - val_loss: 0.3766 - val_acc: 0.8560\n",
      "Epoch 74/128\n",
      " - 5s - loss: 0.2336 - acc: 0.8955 - val_loss: 0.3701 - val_acc: 0.8525\n",
      "Epoch 75/128\n",
      " - 5s - loss: 0.2274 - acc: 0.8990 - val_loss: 0.3711 - val_acc: 0.8580\n",
      "Epoch 76/128\n",
      " - 5s - loss: 0.2266 - acc: 0.9007 - val_loss: 0.3656 - val_acc: 0.8555\n",
      "Epoch 77/128\n",
      " - 5s - loss: 0.2220 - acc: 0.9003 - val_loss: 0.3631 - val_acc: 0.8545\n",
      "Epoch 78/128\n",
      " - 5s - loss: 0.2239 - acc: 0.9002 - val_loss: 0.3730 - val_acc: 0.8570\n",
      "Epoch 79/128\n",
      " - 5s - loss: 0.2299 - acc: 0.8993 - val_loss: 0.3812 - val_acc: 0.8510\n",
      "Epoch 80/128\n",
      " - 5s - loss: 0.2196 - acc: 0.8993 - val_loss: 0.3818 - val_acc: 0.8595\n",
      "Epoch 81/128\n",
      " - 5s - loss: 0.2180 - acc: 0.8988 - val_loss: 0.3747 - val_acc: 0.8525\n",
      "Epoch 82/128\n",
      " - 5s - loss: 0.2197 - acc: 0.8975 - val_loss: 0.3653 - val_acc: 0.8605\n",
      "Epoch 83/128\n",
      " - 5s - loss: 0.2187 - acc: 0.8973 - val_loss: 0.3747 - val_acc: 0.8565\n",
      "Epoch 84/128\n",
      " - 5s - loss: 0.2173 - acc: 0.8967 - val_loss: 0.3721 - val_acc: 0.8555\n",
      "Epoch 85/128\n",
      " - 5s - loss: 0.2103 - acc: 0.9062 - val_loss: 0.3871 - val_acc: 0.8575\n",
      "Epoch 86/128\n",
      " - 5s - loss: 0.2187 - acc: 0.8980 - val_loss: 0.3633 - val_acc: 0.8625\n",
      "Epoch 87/128\n",
      " - 6s - loss: 0.2161 - acc: 0.8998 - val_loss: 0.3874 - val_acc: 0.8545\n",
      "Epoch 88/128\n",
      " - 6s - loss: 0.2146 - acc: 0.9025 - val_loss: 0.3925 - val_acc: 0.8595\n",
      "Epoch 89/128\n",
      " - 6s - loss: 0.2195 - acc: 0.9015 - val_loss: 0.3696 - val_acc: 0.8580\n",
      "Epoch 90/128\n",
      " - 6s - loss: 0.2069 - acc: 0.9080 - val_loss: 0.3830 - val_acc: 0.8520\n",
      "Epoch 91/128\n",
      " - 6s - loss: 0.2109 - acc: 0.9073 - val_loss: 0.3739 - val_acc: 0.8555\n",
      "Epoch 92/128\n",
      " - 7s - loss: 0.2082 - acc: 0.9037 - val_loss: 0.3981 - val_acc: 0.8575\n",
      "Epoch 93/128\n",
      " - 6s - loss: 0.2063 - acc: 0.9098 - val_loss: 0.3860 - val_acc: 0.8570\n",
      "Epoch 94/128\n",
      " - 6s - loss: 0.1984 - acc: 0.9125 - val_loss: 0.4111 - val_acc: 0.8545\n",
      "Epoch 95/128\n",
      " - 6s - loss: 0.1984 - acc: 0.9100 - val_loss: 0.3923 - val_acc: 0.8595\n",
      "Epoch 96/128\n",
      " - 6s - loss: 0.1979 - acc: 0.9108 - val_loss: 0.3929 - val_acc: 0.8555\n",
      "Epoch 97/128\n",
      " - 6s - loss: 0.1936 - acc: 0.9088 - val_loss: 0.4001 - val_acc: 0.8600\n",
      "Epoch 98/128\n",
      " - 6s - loss: 0.1966 - acc: 0.9142 - val_loss: 0.4059 - val_acc: 0.8515\n",
      "Epoch 99/128\n",
      " - 6s - loss: 0.1830 - acc: 0.9183 - val_loss: 0.4129 - val_acc: 0.8560\n",
      "Epoch 100/128\n",
      " - 5s - loss: 0.1961 - acc: 0.9095 - val_loss: 0.3964 - val_acc: 0.8575\n",
      "Epoch 101/128\n",
      " - 5s - loss: 0.1855 - acc: 0.9147 - val_loss: 0.4051 - val_acc: 0.8550\n",
      "Epoch 102/128\n",
      " - 5s - loss: 0.1898 - acc: 0.9148 - val_loss: 0.4081 - val_acc: 0.8595\n",
      "Epoch 103/128\n",
      " - 5s - loss: 0.1969 - acc: 0.9110 - val_loss: 0.4055 - val_acc: 0.8550\n",
      "Epoch 104/128\n",
      " - 5s - loss: 0.2028 - acc: 0.9075 - val_loss: 0.4040 - val_acc: 0.8540\n",
      "Epoch 105/128\n",
      " - 5s - loss: 0.1927 - acc: 0.9128 - val_loss: 0.4103 - val_acc: 0.8550\n",
      "Epoch 106/128\n",
      " - 6s - loss: 0.1874 - acc: 0.9115 - val_loss: 0.4094 - val_acc: 0.8585\n",
      "Epoch 107/128\n",
      " - 6s - loss: 0.1905 - acc: 0.9140 - val_loss: 0.4056 - val_acc: 0.8600\n",
      "Epoch 108/128\n",
      " - 6s - loss: 0.1898 - acc: 0.9113 - val_loss: 0.4014 - val_acc: 0.8520\n",
      "Epoch 109/128\n",
      " - 6s - loss: 0.1994 - acc: 0.9072 - val_loss: 0.4107 - val_acc: 0.8540\n",
      "Epoch 110/128\n",
      " - 6s - loss: 0.1891 - acc: 0.9150 - val_loss: 0.3871 - val_acc: 0.8555\n",
      "Epoch 111/128\n",
      " - 6s - loss: 0.1896 - acc: 0.9078 - val_loss: 0.4116 - val_acc: 0.8535\n",
      "Epoch 112/128\n",
      " - 6s - loss: 0.1850 - acc: 0.9153 - val_loss: 0.4073 - val_acc: 0.8530\n",
      "Epoch 113/128\n",
      " - 6s - loss: 0.1722 - acc: 0.9218 - val_loss: 0.4354 - val_acc: 0.8570\n",
      "Epoch 114/128\n",
      " - 5s - loss: 0.1837 - acc: 0.9185 - val_loss: 0.4200 - val_acc: 0.8565\n",
      "Epoch 115/128\n",
      " - 6s - loss: 0.1861 - acc: 0.9135 - val_loss: 0.4155 - val_acc: 0.8535\n",
      "Epoch 116/128\n",
      " - 6s - loss: 0.1831 - acc: 0.9140 - val_loss: 0.4217 - val_acc: 0.8565\n",
      "Epoch 117/128\n",
      " - 6s - loss: 0.1777 - acc: 0.9172 - val_loss: 0.4210 - val_acc: 0.8615\n",
      "Epoch 118/128\n",
      " - 6s - loss: 0.1796 - acc: 0.9170 - val_loss: 0.4198 - val_acc: 0.8525\n",
      "Epoch 119/128\n",
      " - 6s - loss: 0.1736 - acc: 0.9193 - val_loss: 0.4354 - val_acc: 0.8585\n",
      "Epoch 120/128\n",
      " - 6s - loss: 0.1689 - acc: 0.9208 - val_loss: 0.4240 - val_acc: 0.8580\n",
      "Epoch 121/128\n",
      " - 6s - loss: 0.1760 - acc: 0.9175 - val_loss: 0.4445 - val_acc: 0.8550\n",
      "Epoch 122/128\n",
      " - 6s - loss: 0.1609 - acc: 0.9283 - val_loss: 0.4689 - val_acc: 0.8480\n",
      "Epoch 123/128\n",
      " - 6s - loss: 0.1701 - acc: 0.9195 - val_loss: 0.4358 - val_acc: 0.8570\n",
      "Epoch 124/128\n",
      " - 6s - loss: 0.1603 - acc: 0.9248 - val_loss: 0.4583 - val_acc: 0.8550\n",
      "Epoch 125/128\n",
      " - 6s - loss: 0.1646 - acc: 0.9260 - val_loss: 0.4460 - val_acc: 0.8600\n",
      "Epoch 126/128\n",
      " - 5s - loss: 0.1688 - acc: 0.9250 - val_loss: 0.4381 - val_acc: 0.8565\n",
      "Epoch 127/128\n",
      " - 5s - loss: 0.1688 - acc: 0.9247 - val_loss: 0.4550 - val_acc: 0.8570\n",
      "Epoch 128/128\n",
      " - 6s - loss: 0.1622 - acc: 0.9278 - val_loss: 0.4558 - val_acc: 0.8590\n"
     ]
    }
   ],
   "source": [
    "# train the model for 300 epoochs with batch size 512\n",
    "hist = model.fit(x,y,epochs=128,batch_size=256,validation_data=[xv,yv],verbose=2,callbacks=[checkpoint])"
   ]
  },
  {
   "cell_type": "code",
   "execution_count": 33,
   "metadata": {
    "collapsed": false,
    "deletable": true,
    "editable": true
   },
   "outputs": [
    {
     "data": {
      "image/png": "[encoded data removed]",
      "text/plain": [
       "<matplotlib.figure.Figure at 0x3dbb1808d0>"
      ]
     },
     "metadata": {},
     "output_type": "display_data"
    },
    {
     "data": {
      "image/png": "[encoded data removed]",
      "text/plain": [
       "<matplotlib.figure.Figure at 0x3dbb231b70>"
      ]
     },
     "metadata": {},
     "output_type": "display_data"
    }
   ],
   "source": [
    "# summarize history for accuracy\n",
    "plt.plot(hist.history['acc'])\n",
    "plt.plot(hist.history['val_acc'])\n",
    "plt.title('model accuracy')\n",
    "plt.ylabel('accuracy')\n",
    "plt.xlabel('epoch')\n",
    "plt.legend(['train', 'test'], loc='upper left')\n",
    "plt.show()\n",
    "# summarize history for loss\n",
    "plt.plot(hist.history['loss'])\n",
    "plt.plot(hist.history['val_loss'])\n",
    "plt.title('model loss')\n",
    "plt.ylabel('loss')\n",
    "plt.xlabel('epoch')\n",
    "plt.legend(['train', 'test'], loc='upper left')\n",
    "plt.show()"
   ]
  },
  {
   "cell_type": "markdown",
   "metadata": {},
   "source": [
    "### loading best model and evaluating it on the test data"
   ]
  },
  {
   "cell_type": "code",
   "execution_count": 1,
   "metadata": {
    "collapsed": false,
    "deletable": true,
    "editable": true,
    "scrolled": true
   },
   "outputs": [
    {
     "name": "stderr",
     "output_type": "stream",
     "text": [
      "Using TensorFlow backend.\n"
     ]
    }
   ],
   "source": [
    "from keras.models import load_model\n",
    "import pickle"
   ]
  },
  {
   "cell_type": "code",
   "execution_count": 2,
   "metadata": {
    "collapsed": true,
    "deletable": true,
    "editable": true
   },
   "outputs": [],
   "source": [
    "model = load_model('v16_saved_models/model-ep086-acc0.898-val_acc0.862.h5')"
   ]
  },
  {
   "cell_type": "code",
   "execution_count": 4,
   "metadata": {
    "collapsed": false,
    "deletable": true,
    "editable": true
   },
   "outputs": [],
   "source": [
    "xte,yte = pickle.load(open('tev16.pkl','rb'))"
   ]
  },
  {
   "cell_type": "code",
   "execution_count": 5,
   "metadata": {
    "collapsed": false,
    "deletable": true,
    "editable": true
   },
   "outputs": [
    {
     "name": "stdout",
     "output_type": "stream",
     "text": [
      "(2000, 4096) (2000,)\n"
     ]
    }
   ],
   "source": [
    "print(xte.shape,yte.shape)"
   ]
  },
  {
   "cell_type": "code",
   "execution_count": 6,
   "metadata": {
    "collapsed": false,
    "deletable": true,
    "editable": true
   },
   "outputs": [
    {
     "name": "stdout",
     "output_type": "stream",
     "text": [
      "2000/2000 [==============================] - 1s 494us/step\b\b\b\b\b\b\b\b\b\b\b\b\b\b\b\b\b\b\b\b\b\b\b\b\b\b\b\b\b\b\b\b\b\b\b\b\b\b\b\b\b\b\b\b\b\b\b\b\b\b\b\b\b\b\b\b\b\b\b\b\b\b\b\b\b\b\b\b\b\b\b\b\b\b\b\b\b\b\b\b\b\b\b\b\b\b\b\b\b\b\b\b\b\b\b\b\b\b\b\b\b\b\b\b\b\b\b\b\b\b\b\b\b\b\b\b\b\b\b\b\b\b\b\b\b\b\b\b\b\b\b\b\b\b\b\b\b\b\b\b\b\b\b\b\b\b\b\b\b\b\b\b\b\b\b\b\b\b\b\b\b\b\b\b\b\b\b\b\b\b\b\b\b\b\b\b\b\b\b\b\b\b\b\b\b\b\b\b\b\b\b\b\b\b\b\b\b\b\b\b\b\b\b\b\b\b\b\b\b\b\b\b\b\b\b\b\b\b\b\b\b\b\b\b\b\b\b\b\b\b\b\b\b\b\b\b\b\b\b\b\b\b\b\b\b\b\b\b\b\b\b\b\b\b\b\b\b\b\b\b\b\b\b\b\b\b\b\b\b\b\b\b\b\b\b\b\b\b\b\b\b\b\b\b\b\b\b\b\b\b\b\b\b\b\b\b\b\b\b\b\b\b\b\b\b\b\b\b\b\b\b\b\b\b\b\b\b\b\b\b\b\b\b\b\b\b\b\b\b\b\b\b\b\b\b\b\b\b\b\b\b\b\b\b\b\b\b\b\b\b\b\b\b\b\b\b\b\b\b\b\b\b\b\b\b\b\b\b\b\b\b\b\b\b\b\b\b\b\b\b\b\b\b\b\b\b\b\b\b\b\b\b\b\b\b\b\b\b\b\b\b\b\b\b\b\b\b\b\b\b\b\b\b\b\b\b\b\b\b\b\b\b\b\b\b\b\b\b\b\b\b\b\b\b\b\b\b\b\b\b\b\b\b\b\b\b\b\b\b\b\b\b\b\b\b\b\b\b\b\b\b\b\b\b\b\b\b\b\b\b\b\b\b\b\b\b\b\b\b\b\b\b\b\b\b\b\b\b\b\b\b\b\b\b\b\b\b\b\b\b\b\b\b\b\b\b\b\b\b\b\b\b\b\b\b\b\b\b\b\b\b\b\b\b\b\b\b\b\b\b\b\b\b\b\b\b\b\b\b\b\b\b\b\b\b\b\b\b\b\b\b\b\b\b\b\b\b\b\b\b\b\b\b\b\b\b\b\b\b\b\b\b\b\b\b\b\b\b\b\b\b\b\b\b\b\b\b\b\b\b\b\b\b\b\b\b\b\b\b\b\b\b\b\b\b\b\b\b\b\b\b\b\b\b\b\b\b\b\b\b\b\b\b\b\b\b\b\b\b\b\b\b\b\b\b\b\b\b\b\b\b\b\b\b\b\b\b\b\b\b\b\b\b\b\b\b\b\b\b\b\b\b\b\b\b\b\b\b\b\b\b\b\b\b\b\b\b\b\b\b\b\b\b\b\b\b\b\b\b\b\b\b\b\b\b\b\b\b\b\b\b\b\b\b\b\b\b\b\b\b\b\b\b\b\b\b\b\b\b\b\b\b\b\b\b\b\b\b\b\b\b\b\b\b\b\b\b\b\b\b\b\b\b\b\b\b\b\b\b\b\b\b\b\b\b\b\b\b\b\b\b\b\b\b\b\b\b\b\b\b\b\b\b\b\b\b\b\b\b\b\b\b\b\b\b\b\b\b\b\b\b\b\b\b\b\b\b\b\b\b\b\b\b\b\b\b\b\b\b\b\b\b\b\b\b\b\b\b\b\b\b\b\b\b\b\b\b\b\b\b\b\b\b\b\b\b\b\b\b\b\b\b\b\b\b\b\b\b\b\b\b\b\b\b\b\b\b\b\b\b\b\b\b\b\b\b\b\b\b\b\b\b\b\b\b\b\b\b\n"
     ]
    }
   ],
   "source": [
    "lo,ac = model.evaluate(xte,yte)"
   ]
  },
  {
   "cell_type": "markdown",
   "metadata": {},
   "source": [
    "### accuracy of 0.857"
   ]
  },
  {
   "cell_type": "code",
   "execution_count": 7,
   "metadata": {
    "collapsed": false,
    "deletable": true,
    "editable": true
   },
   "outputs": [
    {
     "name": "stdout",
     "output_type": "stream",
     "text": [
      "0.387664399743 0.857\n"
     ]
    }
   ],
   "source": [
    "print(lo,ac)"
   ]
  },
  {
   "cell_type": "code",
   "execution_count": null,
   "metadata": {
    "collapsed": true
   },
   "outputs": [],
   "source": []
  }
 ],
 "metadata": {
  "anaconda-cloud": {},
  "kernelspec": {
   "display_name": "dog-project",
   "language": "python",
   "name": "dog-project"
  },
  "language_info": {
   "codemirror_mode": {
    "name": "ipython",
    "version": 3
   },
   "file_extension": ".py",
   "mimetype": "text/x-python",
   "name": "python",
   "nbconvert_exporter": "python",
   "pygments_lexer": "ipython3",
   "version": "3.5.3"
  }
 },
 "nbformat": 4,
 "nbformat_minor": 2
}
